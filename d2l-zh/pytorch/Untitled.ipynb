{
 "cells": [
  {
   "cell_type": "code",
   "execution_count": 6,
   "id": "441601d1-95a0-49ca-ac39-b82a5f129bc8",
   "metadata": {},
   "outputs": [],
   "source": [
    "import numpy as np\n",
    "import torch"
   ]
  },
  {
   "cell_type": "code",
   "execution_count": 2,
   "id": "ac2104ac-d232-4f7e-b30f-ee16a78c7068",
   "metadata": {},
   "outputs": [],
   "source": [
    "data = [[1,2],[3,4]]\n",
    "x_data = torch.tensor(data)"
   ]
  },
  {
   "cell_type": "code",
   "execution_count": 3,
   "id": "f338267a-0a2b-45c7-ade8-482df1fc3b76",
   "metadata": {},
   "outputs": [
    {
     "data": {
      "text/plain": [
       "tensor([[1, 2],\n",
       "        [3, 4]])"
      ]
     },
     "execution_count": 3,
     "metadata": {},
     "output_type": "execute_result"
    }
   ],
   "source": [
    "x_data"
   ]
  },
  {
   "cell_type": "code",
   "execution_count": 7,
   "id": "cbc98e97-1763-452f-b24c-89b07304ced4",
   "metadata": {},
   "outputs": [
    {
     "name": "stdout",
     "output_type": "stream",
     "text": [
      "True torch.FloatTensor\n",
      "True torch.FloatTensor\n"
     ]
    }
   ],
   "source": [
    "np_array = np.array([1, 2, 3])\n",
    "python_array = [4, 5, 6]\n",
    "tensor_array = torch.Tensor(np_array)\n",
    "tensor_list = torch.Tensor(python_array)\n",
    "\n",
    "print(isinstance(tensor_array, torch.Tensor), tensor_array.type())\n",
    "print(isinstance(tensor_list, torch.Tensor), tensor_list.type())"
   ]
  },
  {
   "cell_type": "code",
   "execution_count": null,
   "id": "3a3024db-e104-4ab6-9f9e-dc2e540e795d",
   "metadata": {},
   "outputs": [],
   "source": []
  }
 ],
 "metadata": {
  "kernelspec": {
   "display_name": "Python 3 (ipykernel)",
   "language": "python",
   "name": "python3"
  },
  "language_info": {
   "codemirror_mode": {
    "name": "ipython",
    "version": 3
   },
   "file_extension": ".py",
   "mimetype": "text/x-python",
   "name": "python",
   "nbconvert_exporter": "python",
   "pygments_lexer": "ipython3",
   "version": "3.9.19"
  }
 },
 "nbformat": 4,
 "nbformat_minor": 5
}
