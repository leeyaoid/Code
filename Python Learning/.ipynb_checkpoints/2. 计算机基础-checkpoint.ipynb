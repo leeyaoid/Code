{
 "cells": [
  {
   "cell_type": "markdown",
   "id": "a5f71bbf-84a9-44e9-a4f3-9a039e4963af",
   "metadata": {},
   "source": [
    "# 计算机基本概念"
   ]
  },
  {
   "cell_type": "markdown",
   "id": "e3cbe066-96ed-445e-a08f-d52ba8a1b6d5",
   "metadata": {},
   "source": [
    "# 1. 计算机基础"
   ]
  },
  {
   "cell_type": "markdown",
   "id": "6252d3d6-6035-4a33-88f9-fe40147e8213",
   "metadata": {},
   "source": [
    "## 1.1 基本概念"
   ]
  },
  {
   "cell_type": "markdown",
   "id": "eec8222f-77d7-4e3e-8410-b3b0a21fbd85",
   "metadata": {},
   "source": [
    "* 计算机的组成\n",
    "  \n",
    "  计算机由多个硬件组成，常见的硬件有：CPU、硬盘、内存、网卡、显示器等。\n",
    "\n",
    "  但是各个硬件组合在一起，无法协作。\n",
    "\n",
    "* 操作系统\n",
    "\n",
    "  用于协调计算机的各个硬件，让硬件之间进行协作工作，以完成某个目标。\n",
    "\n",
    "  常见操作系统的分类：\n",
    "\n",
    "  - Windows\n",
    "  - linux\n",
    "  - mac"
   ]
  },
  {
   "cell_type": "markdown",
   "id": "a5c1f985-e719-4caa-9d95-6ff8e9b8c2d3",
   "metadata": {},
   "source": [
    "# 编程的本质"
   ]
  },
  {
   "cell_type": "code",
   "execution_count": null,
   "id": "6d3f1451-e8f6-4197-ae54-26af5abca435",
   "metadata": {},
   "outputs": [],
   "source": []
  },
  {
   "cell_type": "markdown",
   "id": "72ebe281-ef12-4a9b-914e-c480f905b38d",
   "metadata": {},
   "source": [
    "# python介绍"
   ]
  },
  {
   "cell_type": "code",
   "execution_count": null,
   "id": "f8062d8c-1bc9-4f60-b20f-b02793d20b2b",
   "metadata": {},
   "outputs": [],
   "source": []
  }
 ],
 "metadata": {
  "kernelspec": {
   "display_name": "Python 3 (ipykernel)",
   "language": "python",
   "name": "python3"
  },
  "language_info": {
   "codemirror_mode": {
    "name": "ipython",
    "version": 3
   },
   "file_extension": ".py",
   "mimetype": "text/x-python",
   "name": "python",
   "nbconvert_exporter": "python",
   "pygments_lexer": "ipython3",
   "version": "3.8.18"
  }
 },
 "nbformat": 4,
 "nbformat_minor": 5
}
