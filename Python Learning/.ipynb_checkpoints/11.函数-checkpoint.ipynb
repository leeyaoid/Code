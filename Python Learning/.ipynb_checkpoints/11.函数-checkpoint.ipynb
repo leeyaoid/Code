{
 "cells": [
  {
   "cell_type": "markdown",
   "id": "7f6619b8-609c-40a2-9531-eaae3f5839bb",
   "metadata": {},
   "source": [
    "# 函数\n",
    "面向过程编程-函数式编程-面向对象编程"
   ]
  },
  {
   "cell_type": "markdown",
   "id": "7f006a29-e879-4b0c-83b1-1b2ba3796ba3",
   "metadata": {},
   "source": [
    "# 1. 初识函数\n",
    "函数，可以当作是一大堆功能代码的集合。"
   ]
  },
  {
   "cell_type": "code",
   "execution_count": 1,
   "id": "abcfde82-7a87-4e42-9d0f-11e98cb67d83",
   "metadata": {},
   "outputs": [
    {
     "name": "stdout",
     "output_type": "stream",
     "text": [
      "第一行\n",
      "第二行\n"
     ]
    }
   ],
   "source": [
    "# 定义函数\n",
    "def info():\n",
    "    print(\"第一行\")\n",
    "    print(\"第二行\")\n",
    "# 使用函数\n",
    "info()"
   ]
  },
  {
   "cell_type": "markdown",
   "id": "18b7a4b8-73e2-4e49-b412-a2ac43283200",
   "metadata": {},
   "source": [
    "# 2. 函数的参数\n",
    "## 2.1 参数\n",
    "定义函数时，在括号中添加变量，称为形式参数。\n",
    "执行函数时，实际参数。\n",
    "按位置传参  \n",
    "按关键词传参  \n",
    "位置传参要在前面  \n",
    "## 2.2 默认参数\n",
    "## 2.3 动态参数"
   ]
  },
  {
   "cell_type": "code",
   "execution_count": 2,
   "id": "7ae5ace1-f362-42e2-a87c-be7755045838",
   "metadata": {},
   "outputs": [],
   "source": [
    "def func(*args):#只能位置传参\n",
    "    print(args) # 元组"
   ]
  },
  {
   "cell_type": "code",
   "execution_count": 4,
   "id": "79d769db-f800-4ff7-a4a9-3c8380861c0e",
   "metadata": {},
   "outputs": [],
   "source": [
    "def func(**kwargs):#只能关键词传参\n",
    "    print(kwargs) # 字典类型"
   ]
  },
  {
   "cell_type": "code",
   "execution_count": 5,
   "id": "8f299293-adfe-46d9-915d-1cca71522136",
   "metadata": {},
   "outputs": [],
   "source": [
    "def func(*args, **kwargs):\n",
    "    print(args,kwargs)"
   ]
  },
  {
   "cell_type": "markdown",
   "id": "badbccad-ffdb-4f3c-a5dc-29864e879403",
   "metadata": {},
   "source": [
    "# 3. 函数返回值"
   ]
  },
  {
   "cell_type": "code",
   "execution_count": null,
   "id": "594ee01f-da8d-4e3a-adec-2f399bfd371d",
   "metadata": {},
   "outputs": [],
   "source": []
  }
 ],
 "metadata": {
  "kernelspec": {
   "display_name": "Python 3 (ipykernel)",
   "language": "python",
   "name": "python3"
  },
  "language_info": {
   "codemirror_mode": {
    "name": "ipython",
    "version": 3
   },
   "file_extension": ".py",
   "mimetype": "text/x-python",
   "name": "python",
   "nbconvert_exporter": "python",
   "pygments_lexer": "ipython3",
   "version": "3.8.18"
  }
 },
 "nbformat": 4,
 "nbformat_minor": 5
}
