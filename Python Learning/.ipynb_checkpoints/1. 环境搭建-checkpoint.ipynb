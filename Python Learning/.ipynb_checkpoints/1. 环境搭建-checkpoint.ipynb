{
 "cells": [
  {
   "cell_type": "markdown",
   "id": "38fb41f8-d2f5-437f-841d-21ffa2520c87",
   "metadata": {},
   "source": [
    "# 环境搭建"
   ]
  },
  {
   "cell_type": "markdown",
   "id": "469a7a74-3dff-4522-8e2f-1dd21c4045b5",
   "metadata": {},
   "source": [
    "## 安装python解释器\n",
    "\n",
    "安装Python\r\n",
    "它本质上就是在我们的电脑上去安装08\r\n",
    "名称叫Python解释器的，0:11\r\n",
    "而这个软件所充当的角色其实就。0:16\r\n",
    "那么我们将Python解释器，后\r\n",
    "00:20\r\n",
    "就可以根据Python的，再写完毕之后\r\n",
    "0，解释器去运行它\r\n",
    "00:29\r\n",
    "，机能够听得懂的语言\r\n",
    "00:32\r\n",
    "。\n",
    "的程序就算能够运行起来了\r",
    "，说你如果要去搞g00:42\r\n",
    "也是需要，0:44\r\n",
    "它的编译器和解释器先，:47\r\n",
    "然后根据他的语，代码\r\n",
    "00:50\r\n",
    "再将代码。\n",
    "那么接下来就来安装Python解释器\r\n",
    "01:29\r\n",
    "那第一步你肯定是需要先去打开它的官网\r\n",
    "01:32\r\n",
    "去进行下载"
   ]
  },
  {
   "cell_type": "markdown",
   "id": "c734e83e-9e21-4384-8b3f-992f2c489d74",
   "metadata": {},
   "source": [
    "### 测试安装完成"
   ]
  },
  {
   "cell_type": "code",
   "execution_count": 13,
   "id": "396f4149-f2c2-411d-8234-f0c2d7266c93",
   "metadata": {},
   "outputs": [
    {
     "name": "stderr",
     "output_type": "stream",
     "text": [
      "UsageError: %%python is a cell magic, but the cell body is empty.\n"
     ]
    }
   ],
   "source": [
    "%%python --version"
   ]
  },
  {
   "cell_type": "code",
   "execution_count": 14,
   "id": "2c95a06d-1c27-4618-a90a-afe46e7c937e",
   "metadata": {
    "scrolled": true
   },
   "outputs": [
    {
     "name": "stdout",
     "output_type": "stream",
     "text": [
      "pip 23.3.1 from C:\\Users\\leeyao\\AppData\\Roaming\\jupyterlab-desktop\\jlab_server\\lib\\site-packages\\pip (python 3.8)\n",
      "\n",
      "Note: you may need to restart the kernel to use updated packages.\n"
     ]
    }
   ],
   "source": [
    "pip --version"
   ]
  },
  {
   "cell_type": "markdown",
   "id": "fd399f04-484f-469f-ade2-c9a62e432245",
   "metadata": {},
   "source": [
    "### 运行python代码文件"
   ]
  },
  {
   "cell_type": "markdown",
   "id": "e318ce7f-83c3-4fa1-8f64-a26c8d95cedd",
   "metadata": {},
   "source": [
    "`python <pythonfile.py>`"
   ]
  },
  {
   "cell_type": "markdown",
   "id": "75536264-ba0f-45cd-a9db-3cbfa8c5b53d",
   "metadata": {},
   "source": [
    "# 安装Pycharm集成开发环境"
   ]
  },
  {
   "cell_type": "code",
   "execution_count": null,
   "id": "b7c6ff29-00a1-4b81-baeb-619d92ac5bdd",
   "metadata": {},
   "outputs": [],
   "source": []
  },
  {
   "cell_type": "code",
   "execution_count": null,
   "id": "7265e8f5-4327-4cab-8f6b-7a3e0ca08406",
   "metadata": {},
   "outputs": [],
   "source": []
  }
 ],
 "metadata": {
  "kernelspec": {
   "display_name": "Python 3 (ipykernel)",
   "language": "python",
   "name": "python3"
  },
  "language_info": {
   "codemirror_mode": {
    "name": "ipython",
    "version": 3
   },
   "file_extension": ".py",
   "mimetype": "text/x-python",
   "name": "python",
   "nbconvert_exporter": "python",
   "pygments_lexer": "ipython3",
   "version": "3.8.18"
  }
 },
 "nbformat": 4,
 "nbformat_minor": 5
}
