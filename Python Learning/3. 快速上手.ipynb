{
 "cells": [
  {
   "cell_type": "markdown",
   "id": "e33fd89f-96f9-45be-8c61-559664f70338",
   "metadata": {},
   "source": [
    "# 快速上手"
   ]
  },
  {
   "cell_type": "markdown",
   "id": "399246b8-4220-4e89-aec8-c59592957521",
   "metadata": {},
   "source": [
    "# 1 编码\n",
    "计算机中所有的数据本质上都是以0和1的组合来存储。\n",
    "\n",
    "在计算机中有一个编码的概念（密码本）。\n",
    "\n",
    "在计算机中有很多种编码，即文字和0、1的对应关系。使用不同的编码保持文件时，硬盘文件中存储的0/1也是不同的。\n",
    "\n",
    "注意事项：在计算机中以某种编码形式保持文件，以后就要以这种编码区打开这个文件，否则就会出现乱码。"
   ]
  },
  {
   "cell_type": "markdown",
   "id": "5901fbd2-7394-43c0-868e-8a1a0530adc8",
   "metadata": {},
   "source": [
    "# 2.编程初体验\n",
    "\n",
    "* 编码保持和打开要一直，否则会乱码。\n",
    "* 默认python解释器是以UTF-8的编码保存文件。"
   ]
  },
  {
   "cell_type": "markdown",
   "id": "862bf2e5-8452-4bc0-b1e4-c54a8ac9c230",
   "metadata": {},
   "source": [
    "修改默认编码："
   ]
  },
  {
   "cell_type": "code",
   "execution_count": 4,
   "id": "d4efca3b-ec97-4393-ab53-d9336d2f8c77",
   "metadata": {},
   "outputs": [
    {
     "name": "stdout",
     "output_type": "stream",
     "text": [
      "Hello World!\n"
     ]
    }
   ],
   "source": [
    "# -*- coding：gbk -*-\n",
    "\n",
    "print(\"Hello World!\")"
   ]
  },
  {
   "cell_type": "markdown",
   "id": "e977d0ef-7fa7-4194-b104-8b3b5b2e3d70",
   "metadata": {},
   "source": [
    "# 3. 输出"
   ]
  },
  {
   "cell_type": "markdown",
   "id": "b0895004-d812-4e45-b6b6-7786ac2f1c4a",
   "metadata": {},
   "source": [
    "将内容或内容想要呈现给用户。"
   ]
  },
  {
   "cell_type": "code",
   "execution_count": 6,
   "id": "2fbb7fb3-d055-47a5-9643-4464224693cc",
   "metadata": {},
   "outputs": [
    {
     "name": "stdout",
     "output_type": "stream",
     "text": [
      "看这风景如画\n"
     ]
    }
   ],
   "source": [
    "print(\"看这风景如画\")"
   ]
  },
  {
   "cell_type": "markdown",
   "id": "140fb310-e7a5-4363-863a-dbe62ddbcffe",
   "metadata": {},
   "source": [
    "* 默认print()会在尾部加换行符"
   ]
  },
  {
   "cell_type": "code",
   "execution_count": 10,
   "id": "88d48669-d067-4417-b796-19e8e03c1887",
   "metadata": {},
   "outputs": [
    {
     "name": "stdout",
     "output_type": "stream",
     "text": [
      "看着风景如画\n",
      "本想吟诗增天下\n"
     ]
    }
   ],
   "source": [
    "print(\"看着风景如画\")\n",
    "print(\"本想吟诗增天下\")"
   ]
  },
  {
   "cell_type": "markdown",
   "id": "09473a02-4850-418b-9b12-b966268e6f48",
   "metadata": {},
   "source": [
    "* 不想换行，可以这样："
   ]
  },
  {
   "cell_type": "code",
   "execution_count": 11,
   "id": "6357af04-f245-4022-a482-ee6b348d8bbd",
   "metadata": {},
   "outputs": [
    {
     "name": "stdout",
     "output_type": "stream",
     "text": [
      "看着风景如画本想吟诗增天下"
     ]
    }
   ],
   "source": [
    "print(\"看着风景如画\", end=\"\")\n",
    "print(\"本想吟诗增天下\",end=\"\")"
   ]
  },
  {
   "cell_type": "code",
   "execution_count": 12,
   "id": "825f6341-e180-4bd4-8966-a69a9ee7d50a",
   "metadata": {},
   "outputs": [
    {
     "name": "stdout",
     "output_type": "stream",
     "text": [
      "看着风景如画,本想吟诗增天下."
     ]
    }
   ],
   "source": [
    "print(\"看着风景如画\", end=\",\")\n",
    "print(\"本想吟诗增天下\",end=\".\")"
   ]
  },
  {
   "cell_type": "markdown",
   "id": "64e04ad8-70bf-4e16-89a5-2e5786b0028d",
   "metadata": {},
   "source": [
    "# 4. 初识数据类型\n",
    "\n",
    "## 4.1 整型（int）\n",
    "整型：整数。"
   ]
  },
  {
   "cell_type": "code",
   "execution_count": 13,
   "id": "7cd74c31-dd18-4b57-8a3e-41123c6b42c6",
   "metadata": {},
   "outputs": [
    {
     "name": "stdout",
     "output_type": "stream",
     "text": [
      "12\n"
     ]
    }
   ],
   "source": [
    "print(2+10)"
   ]
  },
  {
   "cell_type": "code",
   "execution_count": 14,
   "id": "c020397b-b0f5-4055-94e5-dc52ab135e83",
   "metadata": {},
   "outputs": [
    {
     "name": "stdout",
     "output_type": "stream",
     "text": [
      "3.3333333333333335\n"
     ]
    }
   ],
   "source": [
    "print(10/3)"
   ]
  },
  {
   "cell_type": "code",
   "execution_count": 15,
   "id": "a96c2609-c54d-4cfa-a54f-428bc5986482",
   "metadata": {},
   "outputs": [
    {
     "name": "stdout",
     "output_type": "stream",
     "text": [
      "16\n"
     ]
    }
   ],
   "source": [
    "print(2**4)"
   ]
  },
  {
   "cell_type": "markdown",
   "id": "9f0eafe7-35f3-4c1f-9ca7-52731d5b2b97",
   "metadata": {},
   "source": [
    "## 4.2 字符串(str)"
   ]
  },
  {
   "cell_type": "markdown",
   "id": "828bbbd2-1bd6-4480-a9f5-f5bd7681434a",
   "metadata": {},
   "source": [
    "字符串需要通过**引号**引起来。"
   ]
  },
  {
   "cell_type": "code",
   "execution_count": 18,
   "id": "1c08fc4c-82e4-477f-91d2-9ec22d4e22bf",
   "metadata": {},
   "outputs": [
    {
     "name": "stdout",
     "output_type": "stream",
     "text": [
      "我是Alex\n"
     ]
    }
   ],
   "source": [
    "print(\"我是Alex\")"
   ]
  },
  {
   "cell_type": "code",
   "execution_count": 19,
   "id": "c91a756f-5463-4cc1-8fb2-770f13e05e71",
   "metadata": {},
   "outputs": [
    {
     "name": "stdout",
     "output_type": "stream",
     "text": [
      "我是\"Alex\"\n"
     ]
    }
   ],
   "source": [
    "print('我是\"Alex\"')"
   ]
  },
  {
   "cell_type": "markdown",
   "id": "696c5509-cb8d-49e7-8281-b30c586ff671",
   "metadata": {},
   "source": [
    "单引号、双引号只能表示一行字符串。\n",
    "\n",
    "三引号可以表示多行字符串。"
   ]
  },
  {
   "cell_type": "code",
   "execution_count": 22,
   "id": "818a4928-addd-4b88-9dfd-abc4166f8c4d",
   "metadata": {},
   "outputs": [
    {
     "name": "stdout",
     "output_type": "stream",
     "text": [
      "床前明月光，疑是地上霜。\n",
      "举头望明月，低头思故乡。\n"
     ]
    }
   ],
   "source": [
    "print(\"\"\"床前明月光，疑是地上霜。\n",
    "举头望明月，低头思故乡。\"\"\")"
   ]
  },
  {
   "cell_type": "markdown",
   "id": "44ceda06-ae36-40cd-b9e5-5a772ab83dcd",
   "metadata": {},
   "source": [
    "对于字符串：\n",
    "* 加：通过加号拼接起来"
   ]
  },
  {
   "cell_type": "code",
   "execution_count": 25,
   "id": "94f4e771-1804-480e-b364-d2444c249a21",
   "metadata": {},
   "outputs": [
    {
     "name": "stdout",
     "output_type": "stream",
     "text": [
      "我是Alex\n"
     ]
    }
   ],
   "source": [
    "print(\"我是\"+\"Alex\")"
   ]
  },
  {
   "cell_type": "markdown",
   "id": "23c651a7-adb5-462f-a58e-813cdeb68a3c",
   "metadata": {
    "scrolled": true
   },
   "source": [
    "* 乘，让整型和字符串进行相乘，以实现让字符串重复出现N次并拼接起来。"
   ]
  },
  {
   "cell_type": "code",
   "execution_count": 27,
   "id": "cc36e87c-602a-4a81-8ba0-8bf9ebc97aad",
   "metadata": {},
   "outputs": [
    {
     "name": "stdout",
     "output_type": "stream",
     "text": [
      "AlexAlexAlex\n"
     ]
    }
   ],
   "source": [
    "print(3* \"Alex\")"
   ]
  },
  {
   "cell_type": "markdown",
   "id": "0f390ebc-24ff-44e2-959f-123a93cf325b",
   "metadata": {},
   "source": [
    "## 4.3 布尔类型（bool）\n"
   ]
  },
  {
   "cell_type": "markdown",
   "id": "69b2f965-c124-4b53-8155-f6a25a600d59",
   "metadata": {},
   "source": [
    "布尔类型中共有两个值：True/False"
   ]
  },
  {
   "cell_type": "code",
   "execution_count": 28,
   "id": "c3ef777c-1e40-45bc-bab0-19e87a0b69fc",
   "metadata": {},
   "outputs": [
    {
     "data": {
      "text/plain": [
       "False"
      ]
     },
     "execution_count": 28,
     "metadata": {},
     "output_type": "execute_result"
    }
   ],
   "source": [
    "1>2"
   ]
  },
  {
   "cell_type": "code",
   "execution_count": 29,
   "id": "a0ec2b1d-35d9-4ab8-9c88-b62c04773d98",
   "metadata": {},
   "outputs": [
    {
     "data": {
      "text/plain": [
       "True"
      ]
     },
     "execution_count": 29,
     "metadata": {},
     "output_type": "execute_result"
    }
   ],
   "source": [
    "1 ==1 "
   ]
  },
  {
   "cell_type": "markdown",
   "id": "6018b908-22d4-4ce9-b72d-25f53819aa28",
   "metadata": {},
   "source": [
    "整型和字符串可以使用=="
   ]
  },
  {
   "cell_type": "code",
   "execution_count": 32,
   "id": "dfe50e1a-f233-4ceb-be5a-c8c23971c5e3",
   "metadata": {},
   "outputs": [
    {
     "data": {
      "text/plain": [
       "False"
      ]
     },
     "execution_count": 32,
     "metadata": {},
     "output_type": "execute_result"
    }
   ],
   "source": [
    "1 == \"alex\""
   ]
  },
  {
   "cell_type": "code",
   "execution_count": 61,
   "id": "532f3480-338b-4a88-b6d1-d012772f86ee",
   "metadata": {},
   "outputs": [
    {
     "data": {
      "text/plain": [
       "False"
      ]
     },
     "execution_count": 61,
     "metadata": {},
     "output_type": "execute_result"
    }
   ],
   "source": [
    "str(\"111\") == 111"
   ]
  },
  {
   "cell_type": "markdown",
   "id": "f9966179-1bcc-4e21-83c6-6d08f6ccb388",
   "metadata": {},
   "source": [
    "但是整型和字符串不能比较大小"
   ]
  },
  {
   "cell_type": "code",
   "execution_count": 33,
   "id": "84130af3-3f1f-4e9b-bef1-2dfed8f4caf6",
   "metadata": {},
   "outputs": [
    {
     "ename": "TypeError",
     "evalue": "'>' not supported between instances of 'int' and 'str'",
     "output_type": "error",
     "traceback": [
      "\u001b[1;31m---------------------------------------------------------------------------\u001b[0m",
      "\u001b[1;31mTypeError\u001b[0m                                 Traceback (most recent call last)",
      "Cell \u001b[1;32mIn[33], line 1\u001b[0m\n\u001b[1;32m----> 1\u001b[0m \u001b[38;5;241;43m1\u001b[39;49m\u001b[38;5;241;43m>\u001b[39;49m\u001b[38;5;124;43m\"\u001b[39;49m\u001b[38;5;124;43malex\u001b[39;49m\u001b[38;5;124;43m\"\u001b[39;49m\n",
      "\u001b[1;31mTypeError\u001b[0m: '>' not supported between instances of 'int' and 'str'"
     ]
    }
   ],
   "source": [
    "1>\"alex\""
   ]
  },
  {
   "cell_type": "markdown",
   "id": "1a9d700a-1f0b-46e6-a044-ec5adfbd4d5f",
   "metadata": {},
   "source": [
    "## 4.4 类型转换"
   ]
  },
  {
   "cell_type": "markdown",
   "id": "8bd0e7f6-b602-4076-aa89-7f8fb498cd9b",
   "metadata": {},
   "source": [
    "遵循规则：想转换什么类型，就用其类型包裹起来"
   ]
  },
  {
   "cell_type": "code",
   "execution_count": 37,
   "id": "636c6766-14d0-4082-9903-6d49962c2865",
   "metadata": {},
   "outputs": [
    {
     "data": {
      "text/plain": [
       "'666'"
      ]
     },
     "execution_count": 37,
     "metadata": {},
     "output_type": "execute_result"
    }
   ],
   "source": [
    "str(666)"
   ]
  },
  {
   "cell_type": "markdown",
   "id": "f6f05ece-3854-4455-8e44-53f9bca78af8",
   "metadata": {},
   "source": [
    "* 转换为整型\n",
    "    - 只有数字的字符串才能转换\n",
    "    - 文字不能转换为整型\n",
    "    - bool类型可以转为为整型"
   ]
  },
  {
   "cell_type": "code",
   "execution_count": 39,
   "id": "2da2b063-cbf9-4d7f-9ae0-45488861e1a4",
   "metadata": {},
   "outputs": [
    {
     "data": {
      "text/plain": [
       "69"
      ]
     },
     "execution_count": 39,
     "metadata": {},
     "output_type": "execute_result"
    }
   ],
   "source": [
    "int(\"6\"+\"9\")"
   ]
  },
  {
   "cell_type": "code",
   "execution_count": 38,
   "id": "153d9b17-3b2a-4601-a465-3f9bea166052",
   "metadata": {},
   "outputs": [
    {
     "data": {
      "text/plain": [
       "15"
      ]
     },
     "execution_count": 38,
     "metadata": {},
     "output_type": "execute_result"
    }
   ],
   "source": [
    "int(\"6\") + int(\"9\")"
   ]
  },
  {
   "cell_type": "code",
   "execution_count": 40,
   "id": "e73a1121-2cd3-4721-9a2c-3647b0ece76c",
   "metadata": {},
   "outputs": [
    {
     "ename": "ValueError",
     "evalue": "invalid literal for int() with base 10: 'alex'",
     "output_type": "error",
     "traceback": [
      "\u001b[1;31m---------------------------------------------------------------------------\u001b[0m",
      "\u001b[1;31mValueError\u001b[0m                                Traceback (most recent call last)",
      "Cell \u001b[1;32mIn[40], line 1\u001b[0m\n\u001b[1;32m----> 1\u001b[0m \u001b[38;5;28;43mint\u001b[39;49m\u001b[43m(\u001b[49m\u001b[38;5;124;43m\"\u001b[39;49m\u001b[38;5;124;43malex\u001b[39;49m\u001b[38;5;124;43m\"\u001b[39;49m\u001b[43m)\u001b[49m\n",
      "\u001b[1;31mValueError\u001b[0m: invalid literal for int() with base 10: 'alex'"
     ]
    }
   ],
   "source": [
    "int(\"alex\")"
   ]
  },
  {
   "cell_type": "code",
   "execution_count": 41,
   "id": "4016405a-d5e0-43c3-9e0a-f50a0c29e736",
   "metadata": {},
   "outputs": [
    {
     "data": {
      "text/plain": [
       "1"
      ]
     },
     "execution_count": 41,
     "metadata": {},
     "output_type": "execute_result"
    }
   ],
   "source": [
    "int(True)"
   ]
  },
  {
   "cell_type": "code",
   "execution_count": 42,
   "id": "825dc40f-899b-4fe3-a9c8-b4ddc35f2ab9",
   "metadata": {},
   "outputs": [
    {
     "data": {
      "text/plain": [
       "0"
      ]
     },
     "execution_count": 42,
     "metadata": {},
     "output_type": "execute_result"
    }
   ],
   "source": [
    "int(False)"
   ]
  },
  {
   "cell_type": "markdown",
   "id": "a2ce9d93-bf7c-4f2c-8aa2-6da44641ac63",
   "metadata": {},
   "source": [
    "* 转化为字符串\n",
    "   - 整型转换为字符串\n",
    "   - 布尔类型转换为字符串"
   ]
  },
  {
   "cell_type": "code",
   "execution_count": 45,
   "id": "498daad3-a0fc-463e-a655-d44ea728a51b",
   "metadata": {},
   "outputs": [
    {
     "data": {
      "text/plain": [
       "'345'"
      ]
     },
     "execution_count": 45,
     "metadata": {},
     "output_type": "execute_result"
    }
   ],
   "source": [
    "str(345)"
   ]
  },
  {
   "cell_type": "code",
   "execution_count": 46,
   "id": "9c47c659-8b14-41d5-97b0-8780baf1f2be",
   "metadata": {},
   "outputs": [
    {
     "data": {
      "text/plain": [
       "'6669'"
      ]
     },
     "execution_count": 46,
     "metadata": {},
     "output_type": "execute_result"
    }
   ],
   "source": [
    "str(666) + str (9)"
   ]
  },
  {
   "cell_type": "code",
   "execution_count": 47,
   "id": "677fab92-16e8-49a1-8d6f-2b74884e1ad3",
   "metadata": {},
   "outputs": [
    {
     "data": {
      "text/plain": [
       "'True'"
      ]
     },
     "execution_count": 47,
     "metadata": {},
     "output_type": "execute_result"
    }
   ],
   "source": [
    "str(True)"
   ]
  },
  {
   "cell_type": "code",
   "execution_count": 48,
   "id": "d0a793c4-9470-4c19-959d-cdb65db50aa6",
   "metadata": {},
   "outputs": [
    {
     "data": {
      "text/plain": [
       "'False'"
      ]
     },
     "execution_count": 48,
     "metadata": {},
     "output_type": "execute_result"
    }
   ],
   "source": [
    "str(False)"
   ]
  },
  {
   "cell_type": "markdown",
   "id": "71a7b6fa-71f0-4ab1-b60d-e93e91c34374",
   "metadata": {},
   "source": [
    "* 转换为布尔类型\n",
    "   - 整型转换为布尔类型：只有0转为布尔类型才为False\n",
    "   - 字符串转换为布尔类型：只有空转换为布尔类型才为False"
   ]
  },
  {
   "cell_type": "code",
   "execution_count": 51,
   "id": "3b55a2cb-644a-4abe-96bb-e03d64260053",
   "metadata": {},
   "outputs": [
    {
     "data": {
      "text/plain": [
       "False"
      ]
     },
     "execution_count": 51,
     "metadata": {},
     "output_type": "execute_result"
    }
   ],
   "source": [
    "bool(1)"
   ]
  },
  {
   "cell_type": "code",
   "execution_count": 56,
   "id": "e89b6a50-5fe8-46ed-918b-79d9509505e0",
   "metadata": {},
   "outputs": [
    {
     "data": {
      "text/plain": [
       "True"
      ]
     },
     "execution_count": 56,
     "metadata": {},
     "output_type": "execute_result"
    }
   ],
   "source": [
    "bool(-10)"
   ]
  },
  {
   "cell_type": "code",
   "execution_count": 57,
   "id": "75fa34d0-1c81-4398-b137-996057d9cb51",
   "metadata": {},
   "outputs": [
    {
     "data": {
      "text/plain": [
       "False"
      ]
     },
     "execution_count": 57,
     "metadata": {},
     "output_type": "execute_result"
    }
   ],
   "source": [
    "bool(0)"
   ]
  },
  {
   "cell_type": "code",
   "execution_count": 58,
   "id": "b158afb8-38ad-4051-98b8-7933a8faa324",
   "metadata": {},
   "outputs": [
    {
     "data": {
      "text/plain": [
       "True"
      ]
     },
     "execution_count": 58,
     "metadata": {},
     "output_type": "execute_result"
    }
   ],
   "source": [
    "bool(\"a\")"
   ]
  },
  {
   "cell_type": "code",
   "execution_count": 59,
   "id": "8b7047ef-8739-49fc-8174-201767c81076",
   "metadata": {},
   "outputs": [
    {
     "data": {
      "text/plain": [
       "True"
      ]
     },
     "execution_count": 59,
     "metadata": {},
     "output_type": "execute_result"
    }
   ],
   "source": [
    "bool(\" \")"
   ]
  },
  {
   "cell_type": "code",
   "execution_count": 60,
   "id": "6cba230c-dbf4-4507-a3d8-204d229399d6",
   "metadata": {},
   "outputs": [
    {
     "data": {
      "text/plain": [
       "False"
      ]
     },
     "execution_count": 60,
     "metadata": {},
     "output_type": "execute_result"
    }
   ],
   "source": [
    "bool(\"\")"
   ]
  },
  {
   "cell_type": "markdown",
   "id": "245b422b-90b3-4ef5-9c27-7c0b65ba5b1a",
   "metadata": {},
   "source": [
    "三句话搞定类型转换\n",
    "* 其他类型转换为布尔类型时，除了 空字符串 、 0其他都为Ture。\n",
    "* 字符串转换为整型时，只有“888”格式的字符串才能转换为整型，其他都报错。\n",
    "* 想要转换为哪种类型，就用这个类型的英文包裹。"
   ]
  },
  {
   "cell_type": "markdown",
   "id": "3f53bb33-3b7f-4a44-8757-e67b123089e2",
   "metadata": {},
   "source": [
    "> 注意：类型转换不是改变原来值，实际在底层新创建了一个值。例如有整数6，然后使用str（6）转换了一下得到“6”，实际上这个字符串“6”是依据整数6新创建的。"
   ]
  },
  {
   "cell_type": "markdown",
   "id": "4feefc20-de3a-4a19-b6b2-8275f26f2cd0",
   "metadata": {},
   "source": [
    "# 5. 变量\n",
    "变量，就是我么生活中的别名和外号，让变量名指向某个值，格式为：`变量名 = 值`， 以后可以通过变量名来操作对应的值。"
   ]
  },
  {
   "cell_type": "markdown",
   "id": "ff265947-88dc-42f6-b94d-3553ed1055ea",
   "metadata": {},
   "source": [
    "注意：称谓\n",
    "* 给变量赋值 age = 18\n",
    "* 让age代指值 age = 18"
   ]
  },
  {
   "cell_type": "markdown",
   "id": "fa71c89b-c6ec-4a1b-8bd8-8b6823b1ff09",
   "metadata": {},
   "source": [
    "## 5.1 变量名的规范\n",
    "三条规范：\n",
    "* 变量名只能由 字母、数字、下划线组成\n",
    "* 不能以数字开头\n",
    "* 不能用python内置的关键字\n",
    "   `['and', 'as', 'assert', 'break', 'class', 'continue', 'def', 'del', 'elif', 'else', 'except', 'exec', 'finally', 'for', 'from', 'global', 'if', 'import', 'in', 'is', 'lambda', 'not', 'or', 'pass', 'print', 'raise', 'return', 'try', 'while', 'with', 'yield']`"
   ]
  },
  {
   "cell_type": "markdown",
   "id": "f599eff7-4277-46e7-bc31-ab6362fbd981",
   "metadata": {},
   "source": [
    "两个建议：\n",
    "* 下划线连接命名（变量一般小写）\n",
    "* 见名知意"
   ]
  },
  {
   "cell_type": "markdown",
   "id": "51de1c36-a7b1-4f04-8ad5-ce23efd94d1f",
   "metadata": {},
   "source": [
    "## 5.2 变量内存指向关系\n",
    "### 情景一\n",
    "\n",
    "……\n",
    "\n",
    "### 情景五"
   ]
  },
  {
   "cell_type": "markdown",
   "id": "8854b71c-e11f-4533-8d95-6a623c17ec62",
   "metadata": {},
   "source": [
    "# 6. 注释\n",
    "* 单行注释\n"
   ]
  },
  {
   "cell_type": "code",
   "execution_count": 63,
   "id": "8cdb566b-ef79-4e54-b13d-df0ead9fd084",
   "metadata": {},
   "outputs": [],
   "source": [
    "# 声明一个name变量\n",
    "name = \"alex\""
   ]
  },
  {
   "cell_type": "markdown",
   "id": "13277ddc-5dec-4a7e-ba87-7fbd8494d93a",
   "metadata": {},
   "source": [
    "* 多行注释"
   ]
  },
  {
   "cell_type": "code",
   "execution_count": 64,
   "id": "131fb900-4e99-4cdf-af86-c5f8170680ca",
   "metadata": {},
   "outputs": [
    {
     "data": {
      "text/plain": [
       "'\\n多行注释\\n多行注释\\n'"
      ]
     },
     "execution_count": 64,
     "metadata": {},
     "output_type": "execute_result"
    }
   ],
   "source": [
    "\"\"\"\n",
    "多行注释\n",
    "多行注释\n",
    "\"\"\""
   ]
  },
  {
   "cell_type": "markdown",
   "id": "49645832-0cd3-450d-92c5-bc27cd4c4159",
   "metadata": {},
   "source": [
    "# 7. 输入\n",
    "输入，可以实现程序和用户之间的交互"
   ]
  },
  {
   "cell_type": "code",
   "execution_count": 70,
   "id": "a7ef92b2-7459-4b33-a4a4-fbd5b89ddc83",
   "metadata": {},
   "outputs": [
    {
     "name": "stdin",
     "output_type": "stream",
     "text": [
      "请输入用户名： a\n"
     ]
    }
   ],
   "source": [
    "name = input(\"请输入用户名：\")"
   ]
  },
  {
   "cell_type": "code",
   "execution_count": 71,
   "id": "dd15cbb1-e292-48cf-9ad8-4458b9e0446a",
   "metadata": {},
   "outputs": [
    {
     "data": {
      "text/plain": [
       "'a'"
      ]
     },
     "execution_count": 71,
     "metadata": {},
     "output_type": "execute_result"
    }
   ],
   "source": [
    "name"
   ]
  },
  {
   "cell_type": "markdown",
   "id": "9af3265a-3caf-4874-beb6-c03d7cf08e20",
   "metadata": {},
   "source": [
    "> **特别注意**：用户输入的任何内容本质上都是字符串。"
   ]
  },
  {
   "cell_type": "markdown",
   "id": "0cb4ae54-6a9d-4bf3-ac9c-a932cf373813",
   "metadata": {},
   "source": [
    "# 8. 条件语句\n"
   ]
  },
  {
   "cell_type": "markdown",
   "id": "0652ac00-d8be-47ec-ab11-2f95a839d529",
   "metadata": {},
   "source": [
    "```python\n",
    "if 条件：\n",
    "    条件成立之后的代码……\n",
    "else：\n",
    "    条件不成立的代码……\n",
    "```"
   ]
  },
  {
   "cell_type": "markdown",
   "id": "67ec9577-8083-4e44-aa03-2a739d88f37d",
   "metadata": {},
   "source": [
    "提醒：统一缩进问题。"
   ]
  },
  {
   "cell_type": "markdown",
   "id": "53b44efc-bc7e-4e59-b4b7-4810dcc69751",
   "metadata": {},
   "source": [
    "## 8.1 基本条件语句\n"
   ]
  },
  {
   "cell_type": "code",
   "execution_count": 73,
   "id": "7b655b83-018c-4324-a5a3-ab25af3451b8",
   "metadata": {},
   "outputs": [
    {
     "name": "stdout",
     "output_type": "stream",
     "text": [
      "开始\n",
      "123\n",
      "结束\n"
     ]
    }
   ],
   "source": [
    "print(\"开始\")\n",
    "if True:\n",
    "    print(\"123\")\n",
    "else:\n",
    "    print(\"456\")\n",
    "print(\"结束\")"
   ]
  },
  {
   "cell_type": "markdown",
   "id": "614164e6-6c68-42ac-88c9-48ce75ce1c0d",
   "metadata": {},
   "source": [
    "## 8.2多条件判断\n",
    "```python\n",
    "if A条件：\n",
    "    A条件成立之后的代码……\n",
    "elif 条件B：\n",
    "    B条件不成立的代码……\n",
    "else：\n",
    "    上述条件都不成立，执行的代码\n",
    "```"
   ]
  },
  {
   "cell_type": "markdown",
   "id": "8daa4c60-952a-41fd-b440-8db68b1fde71",
   "metadata": {},
   "source": [
    "## 8.4 条件嵌套\n"
   ]
  }
 ],
 "metadata": {
  "kernelspec": {
   "display_name": "Python 3 (ipykernel)",
   "language": "python",
   "name": "python3"
  },
  "language_info": {
   "codemirror_mode": {
    "name": "ipython",
    "version": 3
   },
   "file_extension": ".py",
   "mimetype": "text/x-python",
   "name": "python",
   "nbconvert_exporter": "python",
   "pygments_lexer": "ipython3",
   "version": "3.8.18"
  }
 },
 "nbformat": 4,
 "nbformat_minor": 5
}
