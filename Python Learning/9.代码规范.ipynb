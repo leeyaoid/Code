{
 "cells": [
  {
   "cell_type": "markdown",
   "id": "fa6152a2-5d10-4748-8956-d5e9a2245ff7",
   "metadata": {},
   "source": [
    "# 1. 代码规范\n",
    "# 1.1 名称\n",
    "* 文件夹、文件：下划线连接\n",
    "* 变量：\n",
    "\n",
    "## 1.2 注释\n",
    "* 文件夹注释\n",
    "* 文件注释\n",
    "* 注释\n",
    "\n",
    "## 1.3 todo\n",
    "## 1.4 条件嵌套\n",
    "不要超过三层\n",
    "## 1.5 简单逻辑先处理\n",
    "## 1.6 循环\n",
    "尽量少循环多干事，提高代码效率。\n",
    "## 1.7 变量和值\n",
    "符合PEP8规范\n",
    "# 2. 知识补充\n",
    "## 2.1 pass\n",
    " 用来占据位置，保持语法完整性。\n",
    "## 2.2 is比较\n",
    "* == 比较两个值是否相等\n",
    "* is 比较内存地址是否一致\n",
    "## 2.3 位运算\n",
    "* & 与\n",
    "* | 或\n",
    "* ^ 异或\n",
    "* ~ 取反\n",
    "* << 左移动\n",
    "* `>>` 右移动\n"
   ]
  },
  {
   "cell_type": "code",
   "execution_count": null,
   "id": "966ec340-0005-49b3-8331-f9175b01745e",
   "metadata": {},
   "outputs": [],
   "source": []
  }
 ],
 "metadata": {
  "kernelspec": {
   "display_name": "Python 3 (ipykernel)",
   "language": "python",
   "name": "python3"
  },
  "language_info": {
   "codemirror_mode": {
    "name": "ipython",
    "version": 3
   },
   "file_extension": ".py",
   "mimetype": "text/x-python",
   "name": "python",
   "nbconvert_exporter": "python",
   "pygments_lexer": "ipython3",
   "version": "3.8.18"
  }
 },
 "nbformat": 4,
 "nbformat_minor": 5
}
