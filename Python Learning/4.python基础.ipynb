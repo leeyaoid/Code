{
 "cells": [
  {
   "cell_type": "markdown",
   "id": "f0d4f69c-fa08-4110-bb21-9b5489b0bda7",
   "metadata": {},
   "source": [
    "# python基础"
   ]
  },
  {
   "cell_type": "markdown",
   "id": "37ccd163-15ac-4148-a04e-2b5936c6cee5",
   "metadata": {},
   "source": [
    "# 1. 循环语句"
   ]
  },
  {
   "cell_type": "markdown",
   "id": "af8da1dd-a97d-49e8-9288-8b620dee6fe1",
   "metadata": {},
   "source": [
    "## 1.1 while循环语句的基本使用"
   ]
  },
  {
   "cell_type": "markdown",
   "id": "e29fcceb-ae7b-4ceb-a6d9-b1bf16aaf89a",
   "metadata": {},
   "source": [
    "```python\n",
    "while 条件：\n",
    "    ……\n",
    "    ……\n",
    "```"
   ]
  },
  {
   "cell_type": "markdown",
   "id": "e544bcbc-4f07-4c84-9e6d-4a5842508410",
   "metadata": {},
   "source": [
    "## 1.2 案例"
   ]
  },
  {
   "cell_type": "code",
   "execution_count": 11,
   "id": "31c7ccf7-720c-4d87-bc79-f00f67654b0f",
   "metadata": {},
   "outputs": [
    {
     "name": "stdout",
     "output_type": "stream",
     "text": [
      "1\n",
      "2\n",
      "3\n",
      "4\n",
      "5\n",
      "6\n",
      "8\n",
      "9\n",
      "10\n"
     ]
    }
   ],
   "source": [
    "num =1\n",
    "while num < 11:\n",
    "    if num ==7:\n",
    "        pass\n",
    "    else:\n",
    "        print(num)\n",
    "    num = num + 1"
   ]
  },
  {
   "cell_type": "code",
   "execution_count": 9,
   "id": "cc11bef8-4bf7-4345-b456-9936e491b0d3",
   "metadata": {},
   "outputs": [
    {
     "name": "stdout",
     "output_type": "stream",
     "text": [
      "1\n",
      "2\n",
      "3\n",
      "4\n",
      "5\n",
      "6\n",
      "8\n",
      "9\n",
      "10\n"
     ]
    }
   ],
   "source": [
    "num=1\n",
    "while num<11:\n",
    "    if num!=7:\n",
    "        print(num)\n",
    "    num = num + 1"
   ]
  },
  {
   "cell_type": "markdown",
   "id": "092d1e4b-f673-4f9a-b008-db90cabc27c3",
   "metadata": {},
   "source": [
    "`pass` 什么都不做"
   ]
  },
  {
   "cell_type": "markdown",
   "id": "6dac8bbb-4c09-4fab-9377-3548dabda3c3",
   "metadata": {},
   "source": [
    "## 1.3 break\n",
    "break，用于在while循环中终止循环"
   ]
  },
  {
   "cell_type": "markdown",
   "id": "71bd8382-c141-4d64-a383-fa93778bb934",
   "metadata": {},
   "source": [
    "## 1.4 continue\n",
    "continue，在循环中用于**结束本次循环，开始下一次循环**。"
   ]
  },
  {
   "cell_type": "markdown",
   "id": "91f90347-8bbb-4156-a3eb-1776ea0b3bbe",
   "metadata": {},
   "source": [
    "## 1.5 while else\n",
    "当while后的条件不成立时，else中的代码会执行。\n",
    "```python\n",
    "while 条件：\n",
    "    代码\n",
    "else:\n",
    "    代码"
   ]
  },
  {
   "cell_type": "markdown",
   "id": "c16e4f4d-3d1d-48db-9c98-294321a1e48d",
   "metadata": {},
   "source": [
    "# 2. 字符串格式化\n",
    "字符串格式化，使用便捷的形式实现字符串的拼接。"
   ]
  },
  {
   "cell_type": "markdown",
   "id": "0273af89-b1f9-49c8-b30b-a9b351a28450",
   "metadata": {},
   "source": [
    "# 2.1 %"
   ]
  },
  {
   "cell_type": "markdown",
   "id": "6414435e-51d9-4c65-9dc0-f17b33d2d598",
   "metadata": {},
   "source": [
    "### 2.1.1 基本格式化操作"
   ]
  },
  {
   "cell_type": "code",
   "execution_count": 19,
   "id": "c0a44371-af1e-4783-9be1-323a6f213246",
   "metadata": {},
   "outputs": [
    {
     "data": {
      "text/plain": [
       "'我叫张三，今年18岁'"
      ]
     },
     "execution_count": 19,
     "metadata": {},
     "output_type": "execute_result"
    }
   ],
   "source": [
    "name = \"张三\"\n",
    "age = 18\n",
    "text= \"我叫%s，今年%d岁\"%(name,age)  #占位符 （位置占位符）\n",
    "text"
   ]
  },
  {
   "cell_type": "markdown",
   "id": "36ac691d-417c-49c2-9493-27ade2ab6a32",
   "metadata": {},
   "source": [
    "%s字符串占位符  \n",
    "%d整型占位符"
   ]
  },
  {
   "cell_type": "code",
   "execution_count": 39,
   "id": "295a33ac-5d7b-40a5-af90-a8d97fa730c6",
   "metadata": {},
   "outputs": [
    {
     "ename": "SyntaxError",
     "evalue": "invalid syntax (4066771162.py, line 1)",
     "output_type": "error",
     "traceback": [
      "\u001b[1;36m  Cell \u001b[1;32mIn[39], line 1\u001b[1;36m\u001b[0m\n\u001b[1;33m    text = \"我就%(name)s，今年%(age)d\" %(\"name\":\"李四\",\"age”:18)\u001b[0m\n\u001b[1;37m                                          ^\u001b[0m\n\u001b[1;31mSyntaxError\u001b[0m\u001b[1;31m:\u001b[0m invalid syntax\n"
     ]
    }
   ],
   "source": [
    "text = \"我就%(name)s，今年%(age)d\" %(\"name\":\"李四\",\"age”:18)"
   ]
  },
  {
   "cell_type": "code",
   "execution_count": 40,
   "id": "0224a442-5f5c-4f7d-bbdf-e1dce2a6916b",
   "metadata": {},
   "outputs": [
    {
     "ename": "TypeError",
     "evalue": "format requires a mapping",
     "output_type": "error",
     "traceback": [
      "\u001b[1;31m---------------------------------------------------------------------------\u001b[0m",
      "\u001b[1;31mTypeError\u001b[0m                                 Traceback (most recent call last)",
      "Cell \u001b[1;32mIn[40], line 2\u001b[0m\n\u001b[0;32m      1\u001b[0m text \u001b[38;5;241m=\u001b[39m \u001b[38;5;124m\"\u001b[39m\u001b[38;5;124m我就\u001b[39m\u001b[38;5;132;01m%(name)s\u001b[39;00m\u001b[38;5;124m，今年\u001b[39m\u001b[38;5;132;01m%(age)d\u001b[39;00m\u001b[38;5;124m\"\u001b[39m\n\u001b[1;32m----> 2\u001b[0m data \u001b[38;5;241m=\u001b[39m \u001b[43mtext\u001b[49m\u001b[43m \u001b[49m\u001b[38;5;241;43m%\u001b[39;49m\u001b[43m(\u001b[49m\u001b[38;5;124;43m\"\u001b[39;49m\u001b[38;5;124;43malex\u001b[39;49m\u001b[38;5;124;43m\"\u001b[39;49m\u001b[43m,\u001b[49m\u001b[43m \u001b[49m\u001b[38;5;241;43m18\u001b[39;49m\u001b[43m)\u001b[49m\n",
      "\u001b[1;31mTypeError\u001b[0m: format requires a mapping"
     ]
    }
   ],
   "source": [
    "text = \"我就%(name)s，今年%(age)d\"\n",
    "data = text %(\"alex\", 18)"
   ]
  },
  {
   "cell_type": "markdown",
   "id": "ac58c80c-a579-4374-8cec-1fd25bebf99f",
   "metadata": {},
   "source": [
    "### 2.1.2 百分比符号"
   ]
  },
  {
   "cell_type": "markdown",
   "id": "04aa3663-f951-4b96-97b3-bac8397a08f7",
   "metadata": {},
   "source": [
    "一旦字符串格式化中出现百分号符号的显示，一定要加%%以实现输出%。"
   ]
  },
  {
   "cell_type": "markdown",
   "id": "8ac1144e-8494-43a6-bf6e-57b68d8b5e78",
   "metadata": {},
   "source": [
    "## 2.2 format"
   ]
  },
  {
   "cell_type": "code",
   "execution_count": 28,
   "id": "e7739f55-292c-417c-b67f-2f49873acd50",
   "metadata": {},
   "outputs": [],
   "source": [
    "text = \"我叫{0},jinn {1}岁,真是的名字是{0}\".format(\"张三\",18)"
   ]
  },
  {
   "cell_type": "code",
   "execution_count": 29,
   "id": "60ee8011-fabf-419f-8862-0ba8d20fed25",
   "metadata": {},
   "outputs": [
    {
     "data": {
      "text/plain": [
       "'我叫张三,jinn 18岁,真是的名字是张三'"
      ]
     },
     "execution_count": 29,
     "metadata": {},
     "output_type": "execute_result"
    }
   ],
   "source": [
    "text"
   ]
  },
  {
   "cell_type": "code",
   "execution_count": 31,
   "id": "24a13707-a3e1-48f8-87c7-c7be6e2ae020",
   "metadata": {},
   "outputs": [],
   "source": [
    "text = \"我叫{},jinn {}岁\".format(\"张三\",18)"
   ]
  },
  {
   "cell_type": "code",
   "execution_count": 32,
   "id": "08149810-4b3f-4857-bb39-fe2864c98b1a",
   "metadata": {},
   "outputs": [
    {
     "data": {
      "text/plain": [
       "'我叫张三,jinn 18岁'"
      ]
     },
     "execution_count": 32,
     "metadata": {},
     "output_type": "execute_result"
    }
   ],
   "source": [
    "text"
   ]
  },
  {
   "cell_type": "code",
   "execution_count": 33,
   "id": "4037f772-dcc0-4218-b56d-09e8b1fe8f3d",
   "metadata": {},
   "outputs": [],
   "source": [
    "text = \"我叫{name},今年{age}岁\".format(name = \"张三\", age = 18)"
   ]
  },
  {
   "cell_type": "code",
   "execution_count": 34,
   "id": "d812810b-49b1-4e7f-a217-3bcdb47da7a7",
   "metadata": {},
   "outputs": [
    {
     "data": {
      "text/plain": [
       "'我叫张三,今年18岁'"
      ]
     },
     "execution_count": 34,
     "metadata": {},
     "output_type": "execute_result"
    }
   ],
   "source": [
    "text"
   ]
  },
  {
   "cell_type": "code",
   "execution_count": 38,
   "id": "75513308-00c5-459b-9666-9d9ceaddcd8c",
   "metadata": {},
   "outputs": [
    {
     "data": {
      "text/plain": [
       "'我叫张三,jinn 18岁'"
      ]
     },
     "execution_count": 38,
     "metadata": {},
     "output_type": "execute_result"
    }
   ],
   "source": [
    "text = \"我叫{},jinn {}岁\"\n",
    "data = text.format(\"张三\",18)\n",
    "data"
   ]
  },
  {
   "cell_type": "markdown",
   "id": "fac6b626-3471-42f6-be2c-b4f002d2b416",
   "metadata": {},
   "source": [
    "## 2.3 f"
   ]
  },
  {
   "cell_type": "code",
   "execution_count": 41,
   "id": "78144a67-d41d-42fc-8da4-005791578908",
   "metadata": {},
   "outputs": [],
   "source": [
    "text = f\"武松喜欢{'跑步'}\""
   ]
  },
  {
   "cell_type": "code",
   "execution_count": 42,
   "id": "0e365d62-657d-4978-9764-98a8d1b5eb0d",
   "metadata": {},
   "outputs": [
    {
     "data": {
      "text/plain": [
       "'武松喜欢跑步'"
      ]
     },
     "execution_count": 42,
     "metadata": {},
     "output_type": "execute_result"
    }
   ],
   "source": [
    "text"
   ]
  },
  {
   "cell_type": "code",
   "execution_count": 47,
   "id": "41d722cb-ab29-452e-a17d-a80de4accba6",
   "metadata": {},
   "outputs": [],
   "source": [
    "action = \"打虎\"\n",
    "text = f\"武松喜欢{action} , 今年{21 + 1} 岁\""
   ]
  },
  {
   "cell_type": "code",
   "execution_count": 48,
   "id": "2c5ad656-c61e-4229-9e83-b2beb4d4b00b",
   "metadata": {},
   "outputs": [
    {
     "data": {
      "text/plain": [
       "'武松喜欢打虎 , 今年22 岁'"
      ]
     },
     "execution_count": 48,
     "metadata": {},
     "output_type": "execute_result"
    }
   ],
   "source": [
    "text"
   ]
  },
  {
   "cell_type": "code",
   "execution_count": 49,
   "id": "a830c952-1e83-4db4-92da-ffe113779bcb",
   "metadata": {},
   "outputs": [
    {
     "data": {
      "text/plain": [
       "'武松喜欢打虎 , 今年21 + 1 =22 岁'"
      ]
     },
     "execution_count": 49,
     "metadata": {},
     "output_type": "execute_result"
    }
   ],
   "source": [
    "action = \"打虎\"\n",
    "text = f\"武松喜欢{action} , 今年{21 + 1 =} 岁\"\n",
    "text"
   ]
  },
  {
   "cell_type": "markdown",
   "id": "ef8eb19d-9295-49f6-862e-8a9726aeafb0",
   "metadata": {},
   "source": [
    " * 进制转换"
   ]
  },
  {
   "cell_type": "code",
   "execution_count": 54,
   "id": "6c2bb30d-e6dd-4987-96c0-7453d3b653e0",
   "metadata": {},
   "outputs": [],
   "source": [
    "text = f\"嫂子今年{22:#b}岁\""
   ]
  },
  {
   "cell_type": "code",
   "execution_count": 55,
   "id": "f6ddcdf6-9276-4829-8f30-dbfcda3de049",
   "metadata": {
    "scrolled": true
   },
   "outputs": [
    {
     "data": {
      "text/plain": [
       "'嫂子今年0b10110岁'"
      ]
     },
     "execution_count": 55,
     "metadata": {},
     "output_type": "execute_result"
    }
   ],
   "source": [
    "text"
   ]
  },
  {
   "cell_type": "markdown",
   "id": "af6dc69d-7406-4971-8472-8c246644e3b3",
   "metadata": {},
   "source": [
    "* 函数"
   ]
  },
  {
   "cell_type": "code",
   "execution_count": 56,
   "id": "7e13a935-50e2-4ae1-b168-65d5bf7bd511",
   "metadata": {},
   "outputs": [],
   "source": [
    "name = \"alex\"\n",
    "text = f\"我是{name.upper()}\""
   ]
  },
  {
   "cell_type": "code",
   "execution_count": 57,
   "id": "389dbcee-d71f-41ee-853b-03ae3ef74434",
   "metadata": {},
   "outputs": [
    {
     "data": {
      "text/plain": [
       "'我是ALEX'"
      ]
     },
     "execution_count": 57,
     "metadata": {},
     "output_type": "execute_result"
    }
   ],
   "source": [
    "text"
   ]
  },
  {
   "cell_type": "markdown",
   "id": "e435b193-fde3-45cd-b849-496b767421f5",
   "metadata": {},
   "source": [
    "# 3. 运算符"
   ]
  },
  {
   "cell_type": "markdown",
   "id": "30654102-7195-4b12-ab25-b33a4abbbd4b",
   "metadata": {},
   "source": [
    "## 3.1 算数运算\n",
    "## 3.2 比较运算\n",
    "## 3.3 赋值运算\n",
    "## 3.4 成员运算\n",
    "* in\n",
    "* not in\n",
    "## 3.5 逻辑运算\n",
    "* and\n",
    "* or\n",
    "* not"
   ]
  },
  {
   "cell_type": "markdown",
   "id": "730526b2-4bf4-443a-99de-7e003902b193",
   "metadata": {},
   "source": [
    "## 3.6 运算符优先级"
   ]
  },
  {
   "cell_type": "markdown",
   "id": "407b519f-4c93-4374-b42c-3f64ea750b8d",
   "metadata": {},
   "source": [
    "* 算数运算符 > 比较运算符 > 逻辑运算符 "
   ]
  },
  {
   "cell_type": "markdown",
   "id": "3b58c703-c5fa-4ea0-bb6a-438d7d4e1b0d",
   "metadata": {},
   "source": [
    "* 逻辑运算符内部三个优先级：not > and > or\n"
   ]
  },
  {
   "cell_type": "markdown",
   "id": "d4f96c41-2f43-4297-ac8e-e4c36db7f1b3",
   "metadata": {},
   "source": [
    "* 拿不准：加括号"
   ]
  },
  {
   "cell_type": "markdown",
   "id": "4e06ac6e-d35c-437b-b889-09bd4ca9285a",
   "metadata": {},
   "source": [
    "### 取值练习题"
   ]
  },
  {
   "cell_type": "code",
   "execution_count": 2,
   "id": "35413229-143b-40cf-8885-9e287e6738b3",
   "metadata": {},
   "outputs": [
    {
     "data": {
      "text/plain": [
       "1"
      ]
     },
     "execution_count": 2,
     "metadata": {},
     "output_type": "execute_result"
    }
   ],
   "source": [
    "v1 = 1 or 2\n",
    "v1"
   ]
  },
  {
   "cell_type": "code",
   "execution_count": 3,
   "id": "4eb13b0b-680a-42bd-acd0-fdf64a0bb27e",
   "metadata": {},
   "outputs": [],
   "source": [
    "v2 = -1 or 3"
   ]
  },
  {
   "cell_type": "code",
   "execution_count": 4,
   "id": "e116d97b-cf59-4dc6-b138-b432b901ecdb",
   "metadata": {},
   "outputs": [
    {
     "data": {
      "text/plain": [
       "-1"
      ]
     },
     "execution_count": 4,
     "metadata": {},
     "output_type": "execute_result"
    }
   ],
   "source": [
    "v2"
   ]
  },
  {
   "cell_type": "markdown",
   "id": "894ad245-92eb-46d7-8a8f-c22772e97843",
   "metadata": {},
   "source": [
    "* or 主要是看第一个值，如果第一个为真，结果为第一个值，否则就是第二个值\n",
    "* and 看第一个值，如果第一个为真，结果就是第二个值，否则结果就是第一个值\n",
    "* 如果多个and 和 or，先计算and，再计算or"
   ]
  },
  {
   "cell_type": "code",
   "execution_count": null,
   "id": "0d490c6e-5d61-4426-88d7-c3b04ac615aa",
   "metadata": {},
   "outputs": [],
   "source": []
  }
 ],
 "metadata": {
  "kernelspec": {
   "display_name": "Python 3 (ipykernel)",
   "language": "python",
   "name": "python3"
  },
  "language_info": {
   "codemirror_mode": {
    "name": "ipython",
    "version": 3
   },
   "file_extension": ".py",
   "mimetype": "text/x-python",
   "name": "python",
   "nbconvert_exporter": "python",
   "pygments_lexer": "ipython3",
   "version": "3.8.18"
  }
 },
 "nbformat": 4,
 "nbformat_minor": 5
}
