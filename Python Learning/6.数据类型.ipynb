{
 "cells": [
  {
   "cell_type": "markdown",
   "id": "cb4e6eae-0e80-48b5-93eb-9d14d0baf90c",
   "metadata": {},
   "source": [
    "# 数据类型"
   ]
  },
  {
   "cell_type": "markdown",
   "id": "6aea8a41-b4c1-4032-aaf3-ffa64ba0ea4b",
   "metadata": {},
   "source": [
    "数据类型\n",
    "* int\n",
    "* bool\n",
    "* str\n",
    "* list\n",
    "* tuple\n",
    "* dict\n",
    "* set\n",
    "* float"
   ]
  },
  {
   "cell_type": "markdown",
   "id": "5f8d691f-1726-4922-9c95-c01932d03f89",
   "metadata": {},
   "source": [
    "数据类型的四个维度\n",
    "* 定义\n",
    "* 独有功能\n",
    "* 公共功能\n",
    "* 类型转换\n",
    "* 其他 "
   ]
  },
  {
   "cell_type": "markdown",
   "id": "55779a38-56f7-4a8b-8434-2652ba219aec",
   "metadata": {},
   "source": [
    "# 1. 整型\n",
    "## 1.1 定义\n",
    "age = 99\n"
   ]
  },
  {
   "cell_type": "markdown",
   "id": "1410013f-4fc7-4919-91ae-1798ade3eec4",
   "metadata": {},
   "source": [
    "## 1.2 独有功能"
   ]
  },
  {
   "cell_type": "code",
   "execution_count": 5,
   "id": "186e9e81-3d92-4fdb-98c0-07d3cd63c8e6",
   "metadata": {},
   "outputs": [],
   "source": [
    "v1 = 5\n",
    "result = v1.bit_length()"
   ]
  },
  {
   "cell_type": "code",
   "execution_count": 6,
   "id": "f2d42086-b537-46ac-8e98-1456e77bef9e",
   "metadata": {},
   "outputs": [
    {
     "data": {
      "text/plain": [
       "3"
      ]
     },
     "execution_count": 6,
     "metadata": {},
     "output_type": "execute_result"
    }
   ],
   "source": [
    "result"
   ]
  },
  {
   "cell_type": "code",
   "execution_count": 7,
   "id": "4cac108f-bf44-42ef-82f3-7d4582b8e7a2",
   "metadata": {},
   "outputs": [
    {
     "data": {
      "text/plain": [
       "'0b101'"
      ]
     },
     "execution_count": 7,
     "metadata": {},
     "output_type": "execute_result"
    }
   ],
   "source": [
    "bin(v1)"
   ]
  },
  {
   "cell_type": "markdown",
   "id": "199a74ff-3ffd-4f77-93a4-58984c8e5978",
   "metadata": {},
   "source": [
    "## 1.3 公共功能\n",
    "加减乘除"
   ]
  },
  {
   "cell_type": "markdown",
   "id": "5f9de333-8a0b-45ee-85ad-1da6928915b2",
   "metadata": {},
   "source": [
    "## 1.4 转换\n",
    "### 布尔转整型"
   ]
  },
  {
   "cell_type": "code",
   "execution_count": 9,
   "id": "1ead709d-d094-4a9c-8cab-3cba1e978783",
   "metadata": {},
   "outputs": [],
   "source": [
    "n1 = int(True)\n",
    "n2 = int(False)"
   ]
  },
  {
   "cell_type": "code",
   "execution_count": 10,
   "id": "1944750a-7921-4025-9a70-ee04edfa30ee",
   "metadata": {},
   "outputs": [
    {
     "data": {
      "text/plain": [
       "0"
      ]
     },
     "execution_count": 10,
     "metadata": {},
     "output_type": "execute_result"
    }
   ],
   "source": [
    "n1\n",
    "n2"
   ]
  },
  {
   "cell_type": "markdown",
   "id": "4b42096d-f801-43c5-a774-04bfe7895575",
   "metadata": {},
   "source": [
    "### 字符串转整型"
   ]
  },
  {
   "cell_type": "markdown",
   "id": "76d03799-9c17-4ee5-be3f-b838303a5b40",
   "metadata": {},
   "source": [
    "### 浮点型转整型"
   ]
  },
  {
   "cell_type": "code",
   "execution_count": 11,
   "id": "ac51ee04-1826-4cb0-bfe9-a63833fe9b8e",
   "metadata": {},
   "outputs": [
    {
     "data": {
      "text/plain": [
       "3"
      ]
     },
     "execution_count": 11,
     "metadata": {},
     "output_type": "execute_result"
    }
   ],
   "source": [
    "int(3.67)"
   ]
  },
  {
   "cell_type": "markdown",
   "id": "f84c478b-82ce-4280-992e-6c9ef08d08da",
   "metadata": {},
   "source": [
    "# 2. 布尔类型\n",
    "布尔值：真、假\n",
    "## 2.1 定义\n",
    "## 2.2 独有功能\n",
    "无\n",
    "## 2.3 公共功能\n",
    "无\n",
    "## 2.4 转换\n",
    "整数0，空字符串、列表、元组、集合为False"
   ]
  },
  {
   "cell_type": "markdown",
   "id": "5d575928-3634-454a-8823-6c9d95fa6610",
   "metadata": {},
   "source": [
    "## 2.5 其他\n",
    "### 2.5.1 做条件自动转换的功能\n",
    "如果在if、while条件后面写一个值当作条件时，会默认转换为布尔类型，再做条件判断"
   ]
  },
  {
   "cell_type": "markdown",
   "id": "3d70d650-ea3b-4061-87dc-ed3be2e743e6",
   "metadata": {},
   "source": [
    "# 3. 字符串类型\n",
    "字符串，表示文本信息\n",
    "## 3.1 定义\n",
    "单引号、双引号、三引号\n",
    "## 3.2 独有功能\n",
    "供48个，讲18个"
   ]
  },
  {
   "cell_type": "code",
   "execution_count": 15,
   "id": "99cd3317-62f4-415a-9a2d-04d7d4b9cec2",
   "metadata": {},
   "outputs": [
    {
     "data": {
      "text/plain": [
       "False"
      ]
     },
     "execution_count": 15,
     "metadata": {},
     "output_type": "execute_result"
    }
   ],
   "source": [
    "# 1. 判断字符串是否以xx开头，得到一个布尔值\n",
    "v1 = \"北京欢迎您\"\n",
    "result = v1.startswith(\"北京\")\n",
    "# 2. 判断字符串是否以xx结尾，得到一个布尔值\n",
    "v1.endswith(\"你\")"
   ]
  },
  {
   "cell_type": "code",
   "execution_count": 13,
   "id": "cd257343-d82c-4f0c-8221-a0b1e23c8663",
   "metadata": {},
   "outputs": [
    {
     "data": {
      "text/plain": [
       "True"
      ]
     },
     "execution_count": 13,
     "metadata": {},
     "output_type": "execute_result"
    }
   ],
   "source": [
    "result"
   ]
  },
  {
   "cell_type": "code",
   "execution_count": 16,
   "id": "8764d27a-b035-4bf6-ab0d-f333ae0e1dc2",
   "metadata": {},
   "outputs": [
    {
     "data": {
      "text/plain": [
       "True"
      ]
     },
     "execution_count": 16,
     "metadata": {},
     "output_type": "execute_result"
    }
   ],
   "source": [
    "# 3.判断字符串是否为十进制数，得到布尔值\n",
    "v1 = \"123456789\"\n",
    "v1.isdecimal()"
   ]
  },
  {
   "cell_type": "code",
   "execution_count": 20,
   "id": "281f1d76-37a8-40fd-8d9a-86ec641e4769",
   "metadata": {},
   "outputs": [
    {
     "name": "stdin",
     "output_type": "stream",
     "text": [
      "请输入验证码 的\n"
     ]
    },
    {
     "data": {
      "text/plain": [
       "'的'"
      ]
     },
     "execution_count": 20,
     "metadata": {},
     "output_type": "execute_result"
    }
   ],
   "source": [
    "# 4. 去除字符串两边的 空格、换行符、制表符，得到一个新字符串\n",
    "# 加内容，去除两边指定的内容\n",
    "code = input(\"请输入验证码\")\n",
    "data = code.strip()\n",
    "data = code.rstrip()\n",
    "data = code.lstrip()\n",
    "data = code.strip(\"哥”\")\n",
    "data\n"
   ]
  },
  {
   "cell_type": "markdown",
   "id": "61b6f35a-3c71-49ce-8260-c988576dacd0",
   "metadata": {},
   "source": [
    "换行 \\n   \n",
    "制表符 \\t"
   ]
  },
  {
   "cell_type": "code",
   "execution_count": 21,
   "id": "feeebce9-6556-4d98-ada1-fbb030fb9a10",
   "metadata": {},
   "outputs": [
    {
     "data": {
      "text/plain": [
       "'MY NAME IS QUEEN'"
      ]
     },
     "execution_count": 21,
     "metadata": {},
     "output_type": "execute_result"
    }
   ],
   "source": [
    "# 5. 字符串编程大写，得到新字符串\n",
    "msg = \"my name is queen\"\n",
    "data = msg.upper()\n",
    "data"
   ]
  },
  {
   "cell_type": "code",
   "execution_count": 23,
   "id": "db45b90e-daae-4c19-8f38-0e5de1837f7b",
   "metadata": {},
   "outputs": [
    {
     "data": {
      "text/plain": [
       "'my name is queen'"
      ]
     },
     "execution_count": 23,
     "metadata": {},
     "output_type": "execute_result"
    }
   ],
   "source": [
    " # 5. 字符串编程小写，得到新字符串\n",
    "msg = \"my name is queen\"\n",
    "data = msg.lower()\n",
    "data"
   ]
  },
  {
   "cell_type": "code",
   "execution_count": 26,
   "id": "00ecbf8c-1704-4a65-ac6e-d9c7a1b63126",
   "metadata": {},
   "outputs": [],
   "source": [
    "# 7.字符串内容替换，得到一个新字符串\n",
    "msg = \"my name is queen\"\n",
    "value = msg.replace(\"queen\",\"APPle\")"
   ]
  },
  {
   "cell_type": "code",
   "execution_count": 27,
   "id": "79010daf-af45-46a8-aa57-4856cf789a29",
   "metadata": {},
   "outputs": [
    {
     "data": {
      "text/plain": [
       "'my name is APPle'"
      ]
     },
     "execution_count": 27,
     "metadata": {},
     "output_type": "execute_result"
    }
   ],
   "source": [
    "value"
   ]
  },
  {
   "cell_type": "code",
   "execution_count": 28,
   "id": "33bacf2c-b29c-4e8e-aeda-4e8909ee8dc4",
   "metadata": {},
   "outputs": [
    {
     "data": {
      "text/plain": [
       "['张赞', 'zhang', 'zan', 'zhangzan@qq.com']"
      ]
     },
     "execution_count": 28,
     "metadata": {},
     "output_type": "execute_result"
    }
   ],
   "source": [
    "# 8. 字符串契合，得到一个列表\n",
    "data = \"张赞|zhang|zan|zhangzan@qq.com\"\n",
    "data.split(\"|\")"
   ]
  },
  {
   "cell_type": "code",
   "execution_count": 29,
   "id": "45de5069-1854-43a4-a06a-87b52b3236c7",
   "metadata": {},
   "outputs": [
    {
     "data": {
      "text/plain": [
       "['张赞', 'zhang', 'zan|zhangzan@qq.com']"
      ]
     },
     "execution_count": 29,
     "metadata": {},
     "output_type": "execute_result"
    }
   ],
   "source": [
    "data.split(\"|\",2)"
   ]
  },
  {
   "cell_type": "code",
   "execution_count": 30,
   "id": "de13a698-6647-4000-8ced-8512ba149a23",
   "metadata": {},
   "outputs": [
    {
     "data": {
      "text/plain": [
       "['张赞|zhang', 'zan', 'zhangzan@qq.com']"
      ]
     },
     "execution_count": 30,
     "metadata": {},
     "output_type": "execute_result"
    }
   ],
   "source": [
    "data.rsplit(\"|\",2)"
   ]
  },
  {
   "cell_type": "code",
   "execution_count": 32,
   "id": "16fb5d6b-5524-4e92-b3c4-187cda0867fa",
   "metadata": {},
   "outputs": [],
   "source": [
    "# 9.字符串拼接，得到一个新字符串\n",
    "data_list = [\"alex\",\"是\",\"大烧饼\"]\n",
    "v1 = \"*\".join(data_list)"
   ]
  },
  {
   "cell_type": "code",
   "execution_count": 33,
   "id": "4c2e707b-16ff-4e2f-a090-92a87de1b498",
   "metadata": {},
   "outputs": [
    {
     "data": {
      "text/plain": [
       "'alex*是*大烧饼'"
      ]
     },
     "execution_count": 33,
     "metadata": {},
     "output_type": "execute_result"
    }
   ],
   "source": [
    "v1"
   ]
  },
  {
   "cell_type": "code",
   "execution_count": 35,
   "id": "712fb180-148e-4f6c-9c25-b330b4835c88",
   "metadata": {},
   "outputs": [
    {
     "data": {
      "text/plain": [
       "'alex*是*大烧饼'"
      ]
     },
     "execution_count": 35,
     "metadata": {},
     "output_type": "execute_result"
    }
   ],
   "source": [
    "# 10. 格式化字符串，得到新字符串\n",
    "v1.format()"
   ]
  },
  {
   "cell_type": "code",
   "execution_count": 38,
   "id": "46bb8456-053d-4d82-8e42-0289af8f6841",
   "metadata": {},
   "outputs": [],
   "source": [
    "# 11.字符串转换为字节类型\n",
    "data = \"嫂子\"#字符串\n",
    "v1 = data.encode(\"utf-8\")#字节"
   ]
  },
  {
   "cell_type": "code",
   "execution_count": 39,
   "id": "6c663ac0-9650-4a18-a1a0-269e285765b4",
   "metadata": {},
   "outputs": [
    {
     "data": {
      "text/plain": [
       "b'\\xe5\\xab\\x82\\xe5\\xad\\x90'"
      ]
     },
     "execution_count": 39,
     "metadata": {},
     "output_type": "execute_result"
    }
   ],
   "source": [
    "v1"
   ]
  },
  {
   "cell_type": "code",
   "execution_count": 40,
   "id": "8ef1d3f1-2d4f-424b-8e39-b04eb37ffe44",
   "metadata": {},
   "outputs": [
    {
     "data": {
      "text/plain": [
       "'嫂子'"
      ]
     },
     "execution_count": 40,
     "metadata": {},
     "output_type": "execute_result"
    }
   ],
   "source": [
    "v1.decode(\"utf-8\")"
   ]
  },
  {
   "cell_type": "code",
   "execution_count": 42,
   "id": "d3752c86-39ca-4f82-96e0-8d9dcca5ac56",
   "metadata": {},
   "outputs": [],
   "source": [
    "# 12.将字符串居左、居右、居中\n",
    "v1 = \"张三\"\n",
    "data = v1.center(20,\"*\")"
   ]
  },
  {
   "cell_type": "code",
   "execution_count": 43,
   "id": "59fdc60b-00a3-4542-8057-f8a746a18714",
   "metadata": {},
   "outputs": [
    {
     "data": {
      "text/plain": [
       "'*********张三*********'"
      ]
     },
     "execution_count": 43,
     "metadata": {},
     "output_type": "execute_result"
    }
   ],
   "source": [
    "data"
   ]
  },
  {
   "cell_type": "code",
   "execution_count": 44,
   "id": "5c4a9bd6-5383-4b3e-90d7-b6428eb0b5d3",
   "metadata": {},
   "outputs": [],
   "source": [
    "data = v1.ljust(20,\"*\")"
   ]
  },
  {
   "cell_type": "code",
   "execution_count": 45,
   "id": "96b89424-b34d-46f9-9c76-77f48bc6b473",
   "metadata": {},
   "outputs": [
    {
     "data": {
      "text/plain": [
       "'张三******************'"
      ]
     },
     "execution_count": 45,
     "metadata": {},
     "output_type": "execute_result"
    }
   ],
   "source": [
    "data"
   ]
  },
  {
   "cell_type": "code",
   "execution_count": 48,
   "id": "93b76556-2474-424c-a356-de797d7abb4d",
   "metadata": {},
   "outputs": [
    {
     "data": {
      "text/plain": [
       "'00000000张三'"
      ]
     },
     "execution_count": 48,
     "metadata": {},
     "output_type": "execute_result"
    }
   ],
   "source": [
    "# 13.帮助填充0\n",
    "v1.zfill(10)\n",
    "# 应用场景：处理二进制"
   ]
  },
  {
   "cell_type": "markdown",
   "id": "25d00617-baa2-4553-88be-5000f0ba4251",
   "metadata": {},
   "source": [
    "## 3.3 公共功能\n",
    "* 拼接，相加：字符串+字符串\n",
    "* 相乘：字符串*整数\n",
    "* 长度"
   ]
  },
  {
   "cell_type": "code",
   "execution_count": 50,
   "id": "dcef74be-b3a3-4dc4-8ff8-a64e20ea3340",
   "metadata": {},
   "outputs": [
    {
     "data": {
      "text/plain": [
       "2"
      ]
     },
     "execution_count": 50,
     "metadata": {},
     "output_type": "execute_result"
    }
   ],
   "source": [
    "len(v1)"
   ]
  },
  {
   "cell_type": "markdown",
   "id": "da3251bb-921e-4ed3-8447-6f8eb80926a6",
   "metadata": {},
   "source": [
    "* 获取字符串中的字符，索引  \n",
    "注意：字符串中能够通过索引取值，但无法修改，想修改只能重新创建"
   ]
  },
  {
   "cell_type": "code",
   "execution_count": 56,
   "id": "5c533f5d-fa4b-4944-93d6-3f7bad4118a5",
   "metadata": {},
   "outputs": [
    {
     "data": {
      "text/plain": [
       "'张'"
      ]
     },
     "execution_count": 56,
     "metadata": {},
     "output_type": "execute_result"
    }
   ],
   "source": [
    "v1[0]"
   ]
  },
  {
   "cell_type": "code",
   "execution_count": 57,
   "id": "20742328-8049-4a1d-88bf-2fbf198efc63",
   "metadata": {},
   "outputs": [
    {
     "data": {
      "text/plain": [
       "'三'"
      ]
     },
     "execution_count": 57,
     "metadata": {},
     "output_type": "execute_result"
    }
   ],
   "source": [
    "v1[-1]"
   ]
  },
  {
   "cell_type": "markdown",
   "id": "18079bd2-f1ea-4ecc-84d2-4c2629adf687",
   "metadata": {},
   "source": [
    "* 切片，获取字符串中的子序列\n",
    "  注意：字符串中的切片只能读取数据，无法修改数据"
   ]
  },
  {
   "cell_type": "code",
   "execution_count": 58,
   "id": "75bd7282-1165-4ce2-ae19-519dbbf6d254",
   "metadata": {},
   "outputs": [
    {
     "data": {
      "text/plain": [
       "'张三'"
      ]
     },
     "execution_count": 58,
     "metadata": {},
     "output_type": "execute_result"
    }
   ],
   "source": [
    "message = \"张三******************\"\n",
    "message[0:2]"
   ]
  },
  {
   "cell_type": "code",
   "execution_count": 59,
   "id": "65a19060-5e3c-4aa8-9985-ca8c8366d0f2",
   "metadata": {},
   "outputs": [
    {
     "data": {
      "text/plain": [
       "'张三'"
      ]
     },
     "execution_count": 59,
     "metadata": {},
     "output_type": "execute_result"
    }
   ],
   "source": [
    "message[:2]"
   ]
  },
  {
   "cell_type": "code",
   "execution_count": 60,
   "id": "9ba4cebd-dc0f-417f-bcc5-09f2758e8e1b",
   "metadata": {},
   "outputs": [
    {
     "data": {
      "text/plain": [
       "'三******************'"
      ]
     },
     "execution_count": 60,
     "metadata": {},
     "output_type": "execute_result"
    }
   ],
   "source": [
    "message[1:]"
   ]
  },
  {
   "cell_type": "markdown",
   "id": "7aa359d5-d641-48f9-a1aa-3cf5426bb9ab",
   "metadata": {},
   "source": [
    " * 步长，跳着去取字符串的内容"
   ]
  },
  {
   "cell_type": "code",
   "execution_count": 62,
   "id": "cc58b124-937c-4fb9-93c0-14ca4b4be997",
   "metadata": {},
   "outputs": [
    {
     "data": {
      "text/plain": [
       "'张**'"
      ]
     },
     "execution_count": 62,
     "metadata": {},
     "output_type": "execute_result"
    }
   ],
   "source": [
    "message[0:5:2]"
   ]
  },
  {
   "cell_type": "code",
   "execution_count": 64,
   "id": "95f4d026-c57a-4b23-9d27-e42991228806",
   "metadata": {},
   "outputs": [
    {
     "data": {
      "text/plain": [
       "'***'"
      ]
     },
     "execution_count": 64,
     "metadata": {},
     "output_type": "execute_result"
    }
   ],
   "source": [
    "message[10:5:-2]"
   ]
  },
  {
   "cell_type": "markdown",
   "id": "3e59ca07-45fb-49e9-a4b2-d3476cb85137",
   "metadata": {},
   "source": [
    "* 循环\n",
    "   - while循环\n",
    "   - for循环"
   ]
  },
  {
   "cell_type": "code",
   "execution_count": 65,
   "id": "8c0c8c62-0dfb-4f96-afa7-9caf9ca72609",
   "metadata": {},
   "outputs": [
    {
     "name": "stdout",
     "output_type": "stream",
     "text": [
      "张\n",
      "三\n",
      "*\n",
      "*\n",
      "*\n",
      "*\n",
      "*\n",
      "*\n",
      "*\n",
      "*\n",
      "*\n",
      "*\n",
      "*\n",
      "*\n",
      "*\n",
      "*\n",
      "*\n",
      "*\n",
      "*\n",
      "*\n"
     ]
    }
   ],
   "source": [
    "for char in message:\n",
    "    print(char)"
   ]
  },
  {
   "cell_type": "markdown",
   "id": "521812c9-4c43-42c1-8ded-370c0fdeb270",
   "metadata": {},
   "source": [
    "* range,帮助我们创建一系列数字"
   ]
  },
  {
   "cell_type": "code",
   "execution_count": 67,
   "id": "e7089b25-0141-40b7-8afc-17a51b157246",
   "metadata": {},
   "outputs": [
    {
     "data": {
      "text/plain": [
       "range(0, 10)"
      ]
     },
     "execution_count": 67,
     "metadata": {},
     "output_type": "execute_result"
    }
   ],
   "source": [
    "range(10)"
   ]
  },
  {
   "cell_type": "code",
   "execution_count": 68,
   "id": "8484b3bd-3646-456a-b6f8-66a96e4db50c",
   "metadata": {},
   "outputs": [
    {
     "data": {
      "text/plain": [
       "range(1, 10)"
      ]
     },
     "execution_count": 68,
     "metadata": {},
     "output_type": "execute_result"
    }
   ],
   "source": [
    "range(1,10)"
   ]
  },
  {
   "cell_type": "code",
   "execution_count": 69,
   "id": "21993b86-f1dc-473d-8238-a795ad464ec2",
   "metadata": {},
   "outputs": [
    {
     "data": {
      "text/plain": [
       "range(1, 10, 2)"
      ]
     },
     "execution_count": 69,
     "metadata": {},
     "output_type": "execute_result"
    }
   ],
   "source": [
    "range(1,10,2)"
   ]
  },
  {
   "cell_type": "code",
   "execution_count": 70,
   "id": "3e429a50-cf90-43ea-93b7-cf07eb6bc9e0",
   "metadata": {},
   "outputs": [
    {
     "data": {
      "text/plain": [
       "range(10, 1, -1)"
      ]
     },
     "execution_count": 70,
     "metadata": {},
     "output_type": "execute_result"
    }
   ],
   "source": [
    "range(10,1,-1)"
   ]
  },
  {
   "cell_type": "markdown",
   "id": "9011c96f-2485-486a-8085-2ea2c2c842dc",
   "metadata": {},
   "source": [
    "* for + range()"
   ]
  },
  {
   "cell_type": "code",
   "execution_count": 76,
   "id": "dbb40fea-9fd1-4d43-8349-daf04c6ffae3",
   "metadata": {},
   "outputs": [
    {
     "name": "stdout",
     "output_type": "stream",
     "text": [
      "张\n",
      "三\n",
      "*\n",
      "*\n",
      "*\n",
      "*\n",
      "*\n",
      "*\n",
      "*\n",
      "*\n",
      "*\n",
      "*\n",
      "*\n",
      "*\n",
      "*\n",
      "*\n",
      "*\n",
      "*\n",
      "*\n",
      "*\n"
     ]
    }
   ],
   "source": [
    "for i in range(len(message)):\n",
    "   print(message[i])"
   ]
  },
  {
   "attachments": {
    "9f716f4a-a22b-4bf6-bbec-ae73c19e527f.png": {
     "image/png": "[encoded data removed]"
    }
   },
   "cell_type": "markdown",
   "id": "34625135-b4c3-459f-ac02-9b57f5be1456",
   "metadata": {},
   "source": [
    "一般应用场景：\n",
    " * while，一般在做无限制（未知）循环此时使用  \n",
    "   ![截图_20231127190744.png](attachment:9f716f4a-a22b-4bf6-bbec-ae73c19e527f.png)\n",
    " * for，一般应用在已知的循环数量场景"
   ]
  },
  {
   "cell_type": "markdown",
   "id": "ed4e8adf-1741-41e2-a0a5-b6e90cb0aac2",
   "metadata": {},
   "source": [
    "## 3.4 转换\n"
   ]
  },
  {
   "cell_type": "markdown",
   "id": "abbb71f5-d162-4bea-8cc2-7359e761f2f1",
   "metadata": {},
   "source": [
    "一般情况下，只有整型转换为字符串才有意义\n",
    "## 3.5 其他\n",
    "### 3.5.1 字符串不可以修改\n"
   ]
  },
  {
   "cell_type": "code",
   "execution_count": null,
   "id": "9a500ca9-406c-4982-b07b-e7ec43ca1eb7",
   "metadata": {},
   "outputs": [],
   "source": []
  }
 ],
 "metadata": {
  "kernelspec": {
   "display_name": "Python 3 (ipykernel)",
   "language": "python",
   "name": "python3"
  },
  "language_info": {
   "codemirror_mode": {
    "name": "ipython",
    "version": 3
   },
   "file_extension": ".py",
   "mimetype": "text/x-python",
   "name": "python",
   "nbconvert_exporter": "python",
   "pygments_lexer": "ipython3",
   "version": "3.8.18"
  }
 },
 "nbformat": 4,
 "nbformat_minor": 5
}
