{
 "cells": [
  {
   "cell_type": "markdown",
   "id": "f64e4646-1543-43d7-b0ad-e0c7c2687fe8",
   "metadata": {},
   "source": [
    "# 文件操作相关"
   ]
  },
  {
   "cell_type": "markdown",
   "id": "b3a03f11-a124-4a5f-b532-5722d4b70a73",
   "metadata": {},
   "source": [
    "# 1. 文件操作\n",
    "编码及数据类型\n",
    "* 字符串类型（str），在程序中表示文字信息，本质上时unicode编码中的二进制。\n",
    "* 字节类型\n",
    "   - 克表示文字信息，本质上时utf-8、gbk等编码的二进制（对nnicode进行压缩，方便文件存储和网络传输）\n",
    "   - 可表示原始二进制（图片、文字信息）\n"
   ]
  },
  {
   "cell_type": "markdown",
   "id": "d7e5b4c1-d731-4dcc-83a8-71234b017827",
   "metadata": {},
   "source": [
    "## 1.1 读文件"
   ]
  },
  {
   "cell_type": "code",
   "execution_count": 7,
   "id": "b522520c-2c85-4858-bbbe-d8b63b46b197",
   "metadata": {},
   "outputs": [
    {
     "name": "stdout",
     "output_type": "stream",
     "text": [
      "b'122'\n",
      "122\n"
     ]
    }
   ],
   "source": [
    "# 1. 打开文件\n",
    "file_object = open(\"info.txt\", mode = \"rb\") # rt:文本内容\n",
    "# 2. 读取文件\n",
    "data = file_object.read()\n",
    "# 3. 关闭文件\n",
    "file_object.close()\n",
    "print(data) # 字节类型\n",
    "\n",
    "text = data.decode(\"utf-8\") #\n",
    "print(text)"
   ]
  },
  {
   "cell_type": "code",
   "execution_count": 11,
   "id": "a8678c0e-d7ef-4788-b0cd-9a4af98b6ad0",
   "metadata": {},
   "outputs": [
    {
     "name": "stdout",
     "output_type": "stream",
     "text": [
      "122\n"
     ]
    }
   ],
   "source": [
    "# 1. 打开文件\n",
    "file_object = open(\"info.txt\", mode = \"rt\", encoding=\"utf-8\") \n",
    "# 2. 读取文件\n",
    "data = file_object.read()\n",
    "# 3. 关闭文件\n",
    "file_object.close()\n",
    "print(data) # 字节类型"
   ]
  },
  {
   "cell_type": "markdown",
   "id": "122e644f-c4e2-4c9a-976e-4c71c055444a",
   "metadata": {},
   "source": [
    "注意事项：\n",
    "* 路径\n",
    "   - 相对路径，现在的程序在哪里运行的\n",
    "   - 绝对路径，Windows使用绝对路径，需要注意书写问题  \n",
    "     r\"绝对路径\"  \n",
    "     \"绝对路径中用双\\\\\""
   ]
  },
  {
   "cell_type": "code",
   "execution_count": 12,
   "id": "19043aaa-9656-4d08-8b35-e3d6448171ee",
   "metadata": {},
   "outputs": [
    {
     "name": "stdout",
     "output_type": "stream",
     "text": [
      "False\n"
     ]
    }
   ],
   "source": [
    "# 判断路径是否存储？\n",
    "import os\n",
    "exists = os.path.exists(\"\")\n",
    "print(exists)"
   ]
  },
  {
   "cell_type": "markdown",
   "id": "921ff790-44be-40e8-89bc-5c3457dcf315",
   "metadata": {},
   "source": [
    "## 1.2 写文件\n",
    "* 写文本文件"
   ]
  },
  {
   "cell_type": "code",
   "execution_count": 14,
   "id": "bf59d131-0ac8-4660-a705-1302667e2db2",
   "metadata": {},
   "outputs": [],
   "source": [
    "# 1. 打开文件\n",
    "file_object = open(\"info.txt\", mode = \"wb\") # wb:写入内容为字节内容\n",
    "# 2. 写入文件\n",
    "file_object.write(\"张三\".encode(\"utf-8\"))\n",
    "# 3. 关闭文件\n",
    "file_object.close()"
   ]
  },
  {
   "cell_type": "code",
   "execution_count": 15,
   "id": "fcd2cdb9-69ea-4c7d-9dba-18ae37ad34b9",
   "metadata": {},
   "outputs": [],
   "source": [
    "# 1. 打开文件\n",
    "file_object = open(\"info.txt\", mode = \"wt\", endoding=\"utf-8\") # wb:写入内容为字节内容\n",
    "# 2. 写入文件\n",
    "file_object.write(\"张三\")\n",
    "# 3. 关闭文件\n",
    "file_object.close()"
   ]
  },
  {
   "cell_type": "markdown",
   "id": "8f34fbe0-54b3-4935-97dd-bfca59021dd5",
   "metadata": {},
   "source": [
    "## 1.5 with上下文管理"
   ]
  },
  {
   "cell_type": "code",
   "execution_count": 2,
   "id": "545a2604-a2ad-454d-8f6b-cedfeef4a1bd",
   "metadata": {},
   "outputs": [
    {
     "name": "stdout",
     "output_type": "stream",
     "text": [
      "b'\\xd5\\xc5\\xc8\\xfd'\n"
     ]
    }
   ],
   "source": [
    "with open(\"info.txt\", mode=\"rb\") as f:\n",
    "    data = f.read()\n",
    "    print(data)"
   ]
  },
  {
   "cell_type": "code",
   "execution_count": null,
   "id": "a80d456b-fddb-4ca9-8694-9058c5ae8395",
   "metadata": {},
   "outputs": [],
   "source": []
  }
 ],
 "metadata": {
  "kernelspec": {
   "display_name": "Python 3 (ipykernel)",
   "language": "python",
   "name": "python3"
  },
  "language_info": {
   "codemirror_mode": {
    "name": "ipython",
    "version": 3
   },
   "file_extension": ".py",
   "mimetype": "text/x-python",
   "name": "python",
   "nbconvert_exporter": "python",
   "pygments_lexer": "ipython3",
   "version": "3.8.18"
  }
 },
 "nbformat": 4,
 "nbformat_minor": 5
}
